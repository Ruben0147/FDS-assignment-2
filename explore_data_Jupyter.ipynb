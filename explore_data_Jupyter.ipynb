{
 "cells": [
  {
   "cell_type": "code",
   "execution_count": 63,
   "metadata": {},
   "outputs": [],
   "source": [
    "import pandas as pd\n",
    "import numpy as np\n",
    "import networkx as nx\n",
    "import matplotlib.pyplot as plt\n",
    "from sklearn.model_selection import train_test_split\n",
    "from sklearn.ensemble import RandomForestClassifier\n"
   ]
  },
  {
   "cell_type": "code",
   "execution_count": 64,
   "metadata": {},
   "outputs": [],
   "source": [
    "data_path = \"./fds-link-prediction-madhura/archive\""
   ]
  },
  {
   "cell_type": "code",
   "execution_count": 65,
   "metadata": {},
   "outputs": [],
   "source": [
    "df_attributes = pd.read_csv(f\"{data_path}/attributes.csv\")\n",
    "df_predictions = pd.read_csv(f\"{data_path}/attributes.csv\")\n",
    "df_solutionInput = pd.read_csv(f\"{data_path}/solutionInput.csv\")"
   ]
  },
  {
   "cell_type": "code",
   "execution_count": 66,
   "metadata": {},
   "outputs": [],
   "source": [
    "test_edges = df_solutionInput[['int1', 'int2']].astype(str).values.tolist()\n",
    "\n",
    "df_edges = pd.DataFrame(test_edges, columns=['node1', 'node2'])\n",
    "\n",
    "df_edges.to_csv('test_edges.edgelist', index=False, header=False)\n",
    "#Save the inputsolution as test_edges.edgelist"
   ]
  },
  {
   "cell_type": "code",
   "execution_count": 67,
   "metadata": {},
   "outputs": [],
   "source": [
    "G = nx.read_edgelist(f\"{data_path}/edges_train.edgelist\", delimiter=',', nodetype=str)\n",
    "G_test = nx.read_edgelist(\"test_edges.edgelist\", data=False, nodetype=int, delimiter=',')\n",
    "\n",
    "#import both as a graph"
   ]
  },
  {
   "cell_type": "code",
   "execution_count": 68,
   "metadata": {},
   "outputs": [],
   "source": [
    "def getFeature(G, i, j):\n",
    "    features = []\n",
    "    \n",
    "    # Preferential attachment\n",
    "    pa = len(list(G.neighbors(i))) * len(list(G.neighbors(j)))\n",
    "    features.append(pa)\n",
    "    \n",
    "    # Common neighbors\n",
    "    common_neighbors = len(list(nx.common_neighbors(G, i, j)))\n",
    "    features.append(common_neighbors)\n",
    "    \n",
    "    # Jaccard similarity\n",
    "    jaccard = list(nx.jaccard_coefficient(G, [(i, j)]))[0][2]\n",
    "    features.append(jaccard)\n",
    "    \n",
    "    return np.array(features)\n",
    "\n",
    "def extract_edge_features(graph, edges):\n",
    "    features = []\n",
    "    for (i, j) in edges:\n",
    "        edge_features = getFeature(graph, i, j)  # Get features for edge (i, j)\n",
    "        features.append(edge_features)\n",
    "    return np.array(features)"
   ]
  },
  {
   "cell_type": "code",
   "execution_count": 69,
   "metadata": {},
   "outputs": [],
   "source": [
    "\n",
    "def extract_features(graph, nodes):\n",
    "    features = []\n",
    "    for node in nodes:\n",
    "        degree = graph.degree(node)\n",
    "        clustering = nx.clustering(graph, node)\n",
    "        features.append([degree, clustering])\n",
    "    return np.array(features)\n",
    "\n",
    "# Prepare features for the edges in the training set\n",
    "train_edges = list(G.edges())\n",
    "test_edges = list(G_test.edges())\n",
    "\n",
    "X_train = extract_edge_features(G, train_edges)  # Features for train edges\n",
    "y_train = [1] * len(train_edges)  # Labels for train edges (assuming 1 for positive class)\n",
    "\n",
    "X_test = extract_edge_features(G_test, test_edges)  # Features for test edges\n",
    "y_test = [1] * len(test_edges)  # Labels for test edges (assuming 1 for positive class)"
   ]
  },
  {
   "cell_type": "code",
   "execution_count": 72,
   "metadata": {},
   "outputs": [],
   "source": [
    "#all train edges are postive, so we will create some negative samples. This is not needed for the test data since its already 50/50\n",
    "\n",
    "def generate_negative_samples(graph, num_samples):\n",
    "    nodes = list(graph.nodes())\n",
    "    negative_samples = []\n",
    "    while len(negative_samples) < num_samples:\n",
    "        u, v = np.random.choice(nodes, size=2, replace=False)\n",
    "        if not graph.has_edge(u, v):\n",
    "            negative_samples.append((u, v))\n",
    "    return negative_samples\n",
    "\n",
    "# Generate negative samples\n",
    "num_negative_samples = len(edges)  # Example: same size as positive edges\n",
    "negative_edges = generate_negative_samples(g, num_negative_samples)\n",
    "X_negative = extract_edge_features(g, negative_edges)  # Use the same function for both positive and negative edges\n",
    "y_negative = [0] * len(negative_edges)  # Label for negative edges (0 for no link)\n",
    "\n",
    "# Combine positive and negative samples\n",
    "X_train = np.vstack((X_train, X_negative))\n",
    "y_train = np.concatenate((y_train, y_negative))"
   ]
  },
  {
   "cell_type": "code",
   "execution_count": 82,
   "metadata": {},
   "outputs": [
    {
     "name": "stdout",
     "output_type": "stream",
     "text": [
      "Cross-Validation Accuracy Scores: [0.75530303 0.78787879 0.74469697 0.77083333 0.72765152]\n",
      "Mean Cross-Validation Accuracy: 0.7573\n"
     ]
    }
   ],
   "source": [
    "from sklearn.linear_model import LogisticRegression\n",
    "from sklearn.model_selection import cross_val_score\n",
    "from sklearn.neighbors import KNeighborsClassifier\n",
    "from sklearn.svm import SVC\n",
    "\n",
    "#model = SVC(kernel='rbf', random_state=42)\n",
    "#model = KNeighborsClassifier(n_neighbors=5)\n",
    "model = LogisticRegression(random_state=42)\n",
    "cv_scores = cross_val_score(model, X_train, y_train, cv=5, scoring='accuracy')\n",
    "print(f\"Cross-Validation Accuracy Scores: {cv_scores}\")\n",
    "print(f\"Mean Cross-Validation Accuracy: {np.mean(cv_scores):.4f}\")"
   ]
  }
 ],
 "metadata": {
  "kernelspec": {
   "display_name": "Python 3",
   "language": "python",
   "name": "python3"
  },
  "language_info": {
   "codemirror_mode": {
    "name": "ipython",
    "version": 3
   },
   "file_extension": ".py",
   "mimetype": "text/x-python",
   "name": "python",
   "nbconvert_exporter": "python",
   "pygments_lexer": "ipython3",
   "version": "3.12.4"
  }
 },
 "nbformat": 4,
 "nbformat_minor": 2
}
