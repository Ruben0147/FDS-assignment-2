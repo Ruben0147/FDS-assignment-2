{
 "cells": [
  {
   "cell_type": "code",
   "execution_count": 147,
   "metadata": {},
   "outputs": [],
   "source": [
    "import pandas as pd\n",
    "import numpy as np\n",
    "import networkx as nx\n",
    "import matplotlib.pyplot as plt\n",
    "from sklearn.model_selection import train_test_split\n",
    "from sklearn.linear_model import LogisticRegression\n",
    "from sklearn.neighbors import KNeighborsClassifier\n",
    "from sklearn.ensemble import RandomForestClassifier\n",
    "from sklearn.ensemble import GradientBoostingClassifier\n"
   ]
  },
  {
   "cell_type": "code",
   "execution_count": 148,
   "metadata": {},
   "outputs": [],
   "source": [
    "data_path = \"./fds-link-prediction-madhura/archive\""
   ]
  },
  {
   "cell_type": "code",
   "execution_count": 149,
   "metadata": {},
   "outputs": [],
   "source": [
    "df_attributes = pd.read_csv(f\"{data_path}/attributes.csv\")\n",
    "df_predictions = pd.read_csv(f\"{data_path}/attributes.csv\")\n",
    "df_solutionInput = pd.read_csv(f\"{data_path}/solutionInput.csv\")"
   ]
  },
  {
   "cell_type": "code",
   "execution_count": 150,
   "metadata": {},
   "outputs": [],
   "source": [
    "#change data structure so it can be use in the model\n",
    "solution_edges = df_solutionInput[['int1', 'int2']].astype(str).values.tolist()"
   ]
  },
  {
   "cell_type": "code",
   "execution_count": 151,
   "metadata": {},
   "outputs": [],
   "source": [
    "# Load the graphs\n",
    "G = nx.read_edgelist(f\"{data_path}/edges_train.edgelist\", delimiter=',', nodetype=str)\n",
    "\n"
   ]
  },
  {
   "cell_type": "code",
   "execution_count": 168,
   "metadata": {},
   "outputs": [],
   "source": [
    "def getFeature(G, i, j):\n",
    "    features = []\n",
    "    \n",
    "    # Preferential attachment\n",
    "    pa = len(list(G.neighbors(i))) * len(list(G.neighbors(j)))\n",
    "    features.append(pa)\n",
    "    \n",
    "    # Common neighbors\n",
    "    common_neighbors = len(list(nx.common_neighbors(G, i, j)))\n",
    "    features.append(common_neighbors)\n",
    "    \n",
    "    # Jaccard similarity\n",
    "    jaccard = list(nx.jaccard_coefficient(G, [(i, j)]))[0][2]\n",
    "    features.append(jaccard)\n",
    "    \n",
    "    return np.array(features)"
   ]
  },
  {
   "cell_type": "code",
   "execution_count": 169,
   "metadata": {},
   "outputs": [],
   "source": [
    "def extract_edge_features(graph, edges):\n",
    "    features = []\n",
    "    for (i, j) in edges:\n",
    "        edge_features = getFeature(graph, i, j)\n",
    "        features.append(edge_features)\n",
    "    return np.array(features)"
   ]
  },
  {
   "cell_type": "code",
   "execution_count": 170,
   "metadata": {},
   "outputs": [],
   "source": [
    "# Prepare features for the edges in the data set\n",
    "edges = list(G.edges())\n",
    "X = extract_edge_features(G, edges)\n",
    "y = [1] * len(edges)"
   ]
  },
  {
   "cell_type": "code",
   "execution_count": 171,
   "metadata": {},
   "outputs": [],
   "source": [
    "# Generate negative samples for the data set\n",
    "def generate_negative_samples(graph, num_samples):\n",
    "    nodes = list(graph.nodes())\n",
    "    negative_samples = []\n",
    "    while len(negative_samples) < num_samples:\n",
    "        u, v = np.random.choice(nodes, size=2, replace=False)\n",
    "        if not graph.has_edge(u, v):\n",
    "            negative_samples.append((u, v))\n",
    "    return negative_samples\n",
    "\n",
    "num_negative_samples = int(len(train_edges)*1.00)  # % of negative samples\n",
    "negative_edges = generate_negative_samples(G, num_negative_samples)\n",
    "X_negative = extract_edge_features(G, negative_edges)\n",
    "y_negative = [0] * len(negative_edges)\n",
    "\n",
    "# Combine positive and negative samples for data set\n",
    "X = np.vstack((X, X_negative))\n",
    "y = np.concatenate((y, y_negative))"
   ]
  },
  {
   "cell_type": "code",
   "execution_count": 172,
   "metadata": {},
   "outputs": [],
   "source": [
    "X_train, X_test, y_train, y_test = train_test_split(X, y, test_size=0.2, random_state=42, stratify=y)"
   ]
  },
  {
   "cell_type": "code",
   "execution_count": 173,
   "metadata": {},
   "outputs": [
    {
     "name": "stdout",
     "output_type": "stream",
     "text": [
      "0.76 accuracy with a standard deviation of 0.01\n"
     ]
    }
   ],
   "source": [
    "clf = LogisticRegression(random_state=0, penalty='l2', C=1.5, solver='lbfgs', max_iter=200)\n",
    "clf.fit(X_train, y_train)\n",
    "\n",
    "scores = cross_val_score(clf, X_test, y_test, cv=5)\n",
    "\n",
    "print(\"%0.2f accuracy with a standard deviation of %0.2f\" % (scores.mean(), scores.std()))\n"
   ]
  },
  {
   "cell_type": "code",
   "execution_count": 174,
   "metadata": {},
   "outputs": [
    {
     "name": "stdout",
     "output_type": "stream",
     "text": [
      "Random Forest: 0.76 accuracy with a standard deviation of 0.01\n"
     ]
    }
   ],
   "source": [
    "from sklearn.ensemble import RandomForestClassifier\n",
    "\n",
    "# Random Forest model\n",
    "rf_clf = RandomForestClassifier(random_state=0, n_estimators=100, max_depth=10)\n",
    "rf_clf.fit(X_train, y_train)\n",
    "\n",
    "# Cross-validation\n",
    "rf_scores = cross_val_score(rf_clf, X_test, y_test, cv=5)\n",
    "print(\"Random Forest: %0.2f accuracy with a standard deviation of %0.2f\" % (rf_scores.mean(), rf_scores.std()))"
   ]
  },
  {
   "cell_type": "code",
   "execution_count": 175,
   "metadata": {},
   "outputs": [
    {
     "name": "stdout",
     "output_type": "stream",
     "text": [
      "KNN: 0.74 accuracy with a standard deviation of 0.02\n"
     ]
    }
   ],
   "source": [
    "from sklearn.neighbors import KNeighborsClassifier\n",
    "\n",
    "# KNN model\n",
    "knn_clf = KNeighborsClassifier(n_neighbors=5)\n",
    "knn_clf.fit(X_train, y_train)\n",
    "\n",
    "# Cross-validation\n",
    "knn_scores = cross_val_score(knn_clf, X_test, y_test, cv=5)\n",
    "print(\"KNN: %0.2f accuracy with a standard deviation of %0.2f\" % (knn_scores.mean(), knn_scores.std()))"
   ]
  },
  {
   "cell_type": "code",
   "execution_count": 160,
   "metadata": {},
   "outputs": [
    {
     "name": "stdout",
     "output_type": "stream",
     "text": [
      "Gradient Boosting: 0.75 accuracy with a standard deviation of 0.02\n"
     ]
    }
   ],
   "source": [
    "from sklearn.ensemble import GradientBoostingClassifier\n",
    "\n",
    "# Gradient Boosting model\n",
    "gb_clf = GradientBoostingClassifier(random_state=0, n_estimators=100, learning_rate=0.1)\n",
    "gb_clf.fit(X_train, y_train)\n",
    "\n",
    "# Cross-validation\n",
    "gb_scores = cross_val_score(gb_clf, X_test, y_test, cv=5)\n",
    "print(\"Gradient Boosting: %0.2f accuracy with a standard deviation of %0.2f\" % (gb_scores.mean(), gb_scores.std()))"
   ]
  },
  {
   "cell_type": "code",
   "execution_count": 161,
   "metadata": {},
   "outputs": [
    {
     "name": "stdout",
     "output_type": "stream",
     "text": [
      "Number of positive predictions: 633\n"
     ]
    }
   ],
   "source": [
    "\n",
    "solution_edges = df_solutionInput[['int1', 'int2']].astype(str).values.tolist()\n",
    "X_solution = extract_edge_features(G, solution_edges)\n",
    "\n",
    "predictions = knn_clf.predict(X_solution)\n",
    "\n",
    "df_solutionInput['prediction'] = predictions\n",
    "\n",
    "#df_solutionInput.to_csv('predicted_solution.csv', index=False)\n",
    "\n",
    "df_solutionInput.head()\n",
    "\n",
    "num_positive_predictions = df_solutionInput['prediction'].sum()\n",
    "\n",
    "print(f\"Number of positive predictions: {num_positive_predictions}\")\n"
   ]
  },
  {
   "cell_type": "code",
   "execution_count": null,
   "metadata": {},
   "outputs": [],
   "source": []
  }
 ],
 "metadata": {
  "kernelspec": {
   "display_name": "base",
   "language": "python",
   "name": "python3"
  },
  "language_info": {
   "codemirror_mode": {
    "name": "ipython",
    "version": 3
   },
   "file_extension": ".py",
   "mimetype": "text/x-python",
   "name": "python",
   "nbconvert_exporter": "python",
   "pygments_lexer": "ipython3",
   "version": "3.12.4"
  }
 },
 "nbformat": 4,
 "nbformat_minor": 2
}
